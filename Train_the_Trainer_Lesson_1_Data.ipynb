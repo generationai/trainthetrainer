{
  "nbformat": 4,
  "nbformat_minor": 0,
  "metadata": {
    "colab": {
      "name": "Train_the_Trainer_Lesson_1_Data.ipynb",
      "provenance": []
    },
    "kernelspec": {
      "name": "python3",
      "display_name": "Python 3"
    },
    "language_info": {
      "name": "python"
    }
  },
  "cells": [
    {
      "cell_type": "code",
      "metadata": {
        "id": "gDM3P_W6K6W0"
      },
      "source": [
        "#This is a python package\n",
        "#Python packages are pre-made code that give us shortcuts to doing our work\n",
        "#This python package is called pandas and helps us load data and manipulate it \n",
        "import pandas as pd"
      ],
      "execution_count": null,
      "outputs": []
    },
    {
      "cell_type": "code",
      "metadata": {
        "id": "2SBigoSMPGXK"
      },
      "source": [
        "#Let's read in our comma separated values file (CSV), called grades.csv\n",
        "#A comma separated values file is just a file where each data point\n",
        "#is separated by a comma\n",
        "#Click this link to see the raw data\n",
        "grades = pd.read_csv('grades.csv') #this command reads in our data into the grades variable"
      ],
      "execution_count": null,
      "outputs": []
    },
    {
      "cell_type": "code",
      "metadata": {
        "colab": {
          "base_uri": "https://localhost:8080/",
          "height": 228
        },
        "id": "hqnufLlYPM_y",
        "outputId": "eaafa556-0400-4f1f-b16d-19183f32782f"
      },
      "source": [
        "grades.head()"
      ],
      "execution_count": null,
      "outputs": [
        {
          "output_type": "execute_result",
          "data": {
            "text/html": [
              "<div>\n",
              "<style scoped>\n",
              "    .dataframe tbody tr th:only-of-type {\n",
              "        vertical-align: middle;\n",
              "    }\n",
              "\n",
              "    .dataframe tbody tr th {\n",
              "        vertical-align: top;\n",
              "    }\n",
              "\n",
              "    .dataframe thead th {\n",
              "        text-align: right;\n",
              "    }\n",
              "</style>\n",
              "<table border=\"1\" class=\"dataframe\">\n",
              "  <thead>\n",
              "    <tr style=\"text-align: right;\">\n",
              "      <th></th>\n",
              "      <th>Name</th>\n",
              "      <th>Assignment1</th>\n",
              "      <th>Exam1</th>\n",
              "    </tr>\n",
              "  </thead>\n",
              "  <tbody>\n",
              "    <tr>\n",
              "      <th>0</th>\n",
              "      <td>Tom</td>\n",
              "      <td>40</td>\n",
              "      <td>75</td>\n",
              "    </tr>\n",
              "    <tr>\n",
              "      <th>1</th>\n",
              "      <td>Allison</td>\n",
              "      <td>95</td>\n",
              "      <td>99</td>\n",
              "    </tr>\n",
              "    <tr>\n",
              "      <th>2</th>\n",
              "      <td>Mike</td>\n",
              "      <td>55</td>\n",
              "      <td>87</td>\n",
              "    </tr>\n",
              "    <tr>\n",
              "      <th>3</th>\n",
              "      <td>Kate</td>\n",
              "      <td>100</td>\n",
              "      <td>81</td>\n",
              "    </tr>\n",
              "    <tr>\n",
              "      <th>4</th>\n",
              "      <td>Bernard</td>\n",
              "      <td>90</td>\n",
              "      <td>54</td>\n",
              "    </tr>\n",
              "  </tbody>\n",
              "</table>\n",
              "</div>"
            ],
            "text/plain": [
              "      Name  Assignment1  Exam1\n",
              "0     Tom            40     75\n",
              "1  Allison           95     99\n",
              "2     Mike           55     87\n",
              "3     Kate          100     81\n",
              "4  Bernard           90     54"
            ]
          },
          "metadata": {},
          "execution_count": 6
        }
      ]
    },
    {
      "cell_type": "code",
      "metadata": {
        "id": "VpHqAFpGhSGT"
      },
      "source": [
        "#We can also create this data manually by hand using the code below if we\n",
        "#don't have the data already stored\n",
        "data = pd.DataFrame(columns = ['Name','Assignment1', 'Exam1'])"
      ],
      "execution_count": null,
      "outputs": []
    },
    {
      "cell_type": "code",
      "metadata": {
        "id": "uj7yssooLAiQ"
      },
      "source": [
        "#We assign our data separately in lists to the following variables\n",
        "students = ['Tom', 'Allison', 'Mike', 'Kate', 'Bernard']\n",
        "as1 = [40, 95, 55, 100, 90]\n",
        "exam1 = [75, 99, 87, 81, 54]"
      ],
      "execution_count": null,
      "outputs": []
    },
    {
      "cell_type": "code",
      "metadata": {
        "id": "aLF4zl_eqCBY"
      },
      "source": [
        "#We then create columns in our table based on the previous created lists\n",
        "data['Name'] = students\n",
        "data['Assignment1'] = as1\n",
        "data['Exam1'] = exam1"
      ],
      "execution_count": null,
      "outputs": []
    },
    {
      "cell_type": "code",
      "metadata": {
        "colab": {
          "base_uri": "https://localhost:8080/",
          "height": 228
        },
        "id": "vgmCqzdSL64d",
        "outputId": "9f455c51-443b-4b37-a69b-0f4415ea6ee7"
      },
      "source": [
        "data.head()"
      ],
      "execution_count": null,
      "outputs": [
        {
          "output_type": "execute_result",
          "data": {
            "text/html": [
              "<div>\n",
              "<style scoped>\n",
              "    .dataframe tbody tr th:only-of-type {\n",
              "        vertical-align: middle;\n",
              "    }\n",
              "\n",
              "    .dataframe tbody tr th {\n",
              "        vertical-align: top;\n",
              "    }\n",
              "\n",
              "    .dataframe thead th {\n",
              "        text-align: right;\n",
              "    }\n",
              "</style>\n",
              "<table border=\"1\" class=\"dataframe\">\n",
              "  <thead>\n",
              "    <tr style=\"text-align: right;\">\n",
              "      <th></th>\n",
              "      <th>Name</th>\n",
              "      <th>Assignment1</th>\n",
              "      <th>Exam1</th>\n",
              "    </tr>\n",
              "  </thead>\n",
              "  <tbody>\n",
              "    <tr>\n",
              "      <th>0</th>\n",
              "      <td>Tom</td>\n",
              "      <td>40</td>\n",
              "      <td>75</td>\n",
              "    </tr>\n",
              "    <tr>\n",
              "      <th>1</th>\n",
              "      <td>Allison</td>\n",
              "      <td>95</td>\n",
              "      <td>99</td>\n",
              "    </tr>\n",
              "    <tr>\n",
              "      <th>2</th>\n",
              "      <td>Mike</td>\n",
              "      <td>55</td>\n",
              "      <td>87</td>\n",
              "    </tr>\n",
              "    <tr>\n",
              "      <th>3</th>\n",
              "      <td>Kate</td>\n",
              "      <td>100</td>\n",
              "      <td>81</td>\n",
              "    </tr>\n",
              "    <tr>\n",
              "      <th>4</th>\n",
              "      <td>Bernard</td>\n",
              "      <td>90</td>\n",
              "      <td>54</td>\n",
              "    </tr>\n",
              "  </tbody>\n",
              "</table>\n",
              "</div>"
            ],
            "text/plain": [
              "      Name  Assignment1  Exam1\n",
              "0      Tom           40     75\n",
              "1  Allison           95     99\n",
              "2     Mike           55     87\n",
              "3     Kate          100     81\n",
              "4  Bernard           90     54"
            ]
          },
          "metadata": {},
          "execution_count": 32
        }
      ]
    },
    {
      "cell_type": "code",
      "metadata": {
        "id": "Qu7P4D6mqP7r"
      },
      "source": [
        "#What types of data do we have? \n",
        "#Our Name column is a qualitative data type because it is "
      ],
      "execution_count": null,
      "outputs": []
    },
    {
      "cell_type": "markdown",
      "metadata": {
        "id": "ShpwcuVIq6nK"
      },
      "source": [
        "# What types of data do we have? \n",
        "Our Name column is a qualitative data type because it is a non-numeric value that describes our data. \n",
        "\n",
        "Our assignment 1 and exam 1 columns are discrete numeric data types because they can only hold values between 0-100. "
      ]
    }
  ]
}